{
 "cells": [
  {
   "cell_type": "code",
   "execution_count": 3,
   "id": "595311bb",
   "metadata": {},
   "outputs": [],
   "source": [
    "import pandas as analytics\n",
    "import numpy as maths\n",
    "import matplotlib.pyplot as graph\n",
    "import os"
   ]
  },
  {
   "cell_type": "code",
   "execution_count": 4,
   "id": "ecde3d2e",
   "metadata": {},
   "outputs": [],
   "source": [
    "os.chdir('../data/')\n",
    "\n",
    "df_gender_submission = analytics.read_csv('gender_submission.csv')\n",
    "df_train = analytics.read_csv('train.csv')\n",
    "df_test = analytics.read_csv('test.csv')"
   ]
  },
  {
   "cell_type": "code",
   "execution_count": 8,
   "id": "8ef0b884",
   "metadata": {},
   "outputs": [],
   "source": [
    "os.chdir('../output/')"
   ]
  },
  {
   "cell_type": "code",
   "execution_count": null,
   "id": "cdd17258",
   "metadata": {},
   "outputs": [],
   "source": [
    "df"
   ]
  }
 ],
 "metadata": {
  "kernelspec": {
   "display_name": "Python 3 (ipykernel)",
   "language": "python",
   "name": "python3"
  },
  "language_info": {
   "codemirror_mode": {
    "name": "ipython",
    "version": 3
   },
   "file_extension": ".py",
   "mimetype": "text/x-python",
   "name": "python",
   "nbconvert_exporter": "python",
   "pygments_lexer": "ipython3",
   "version": "3.10.12"
  }
 },
 "nbformat": 4,
 "nbformat_minor": 5
}
