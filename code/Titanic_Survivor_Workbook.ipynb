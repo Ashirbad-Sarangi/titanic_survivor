{
 "cells": [
  {
   "cell_type": "code",
   "execution_count": 3,
   "id": "3c4f3b34",
   "metadata": {},
   "outputs": [],
   "source": [
    "import pandas as analytics\n",
    "import numpy as maths\n",
    "import matplotlib.pyplot as graph\n",
    "import os"
   ]
  },
  {
   "cell_type": "code",
   "execution_count": 4,
   "id": "6d86b4ea",
   "metadata": {},
   "outputs": [],
   "source": [
    "os.chdir('../data/')\n",
    "\n",
    "df_gender_submission = analytics.read_csv('gender_submission.csv')\n",
    "df_train = analytics.read_csv('train.csv')\n",
    "df_test = analytics.read_csv('test.csv')"
   ]
  },
  {
   "cell_type": "code",
   "execution_count": 8,
   "id": "f65bb3fd",
   "metadata": {},
   "outputs": [],
   "source": [
    "os.chdir('../output/')"
   ]
  },
  {
   "cell_type": "code",
   "execution_count": null,
   "id": "e8249f48",
   "metadata": {},
   "outputs": [],
   "source": []
  }
 ],
 "metadata": {
  "kernelspec": {
   "display_name": "Python 3 (ipykernel)",
   "language": "python",
   "name": "python3"
  },
  "language_info": {
   "codemirror_mode": {
    "name": "ipython",
    "version": 3
   },
   "file_extension": ".py",
   "mimetype": "text/x-python",
   "name": "python",
   "nbconvert_exporter": "python",
   "pygments_lexer": "ipython3",
   "version": "3.10.12"
  }
 },
 "nbformat": 4,
 "nbformat_minor": 5
}
